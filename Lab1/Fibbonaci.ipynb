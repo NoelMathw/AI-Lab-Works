{
 "cells": [
  {
   "cell_type": "code",
   "execution_count": 16,
   "id": "8defbb4e-a22f-40c8-9a56-02324bd914a6",
   "metadata": {},
   "outputs": [
    {
     "name": "stdout",
     "output_type": "stream",
     "text": [
      "[0, 1, 1, 2, 3, 5, 8, 13, 21, 34, 55]\n"
     ]
    }
   ],
   "source": [
    "def Fibo(N):\n",
    "    FiboList=[0]\n",
    "    temp=1\n",
    "    for i in range(0,N):\n",
    "        FiboList.append(temp)\n",
    "        temp = temp + FiboList[i]\n",
    "    return FiboList;\n",
    "\n",
    "print(Fibo(10))"
   ]
  },
  {
   "cell_type": "code",
   "execution_count": 30,
   "id": "7e338a10-945a-4367-9145-4044b640817c",
   "metadata": {},
   "outputs": [
    {
     "data": {
      "text/plain": [
       "[0, 1, 1, 2, 3, 5, 8, 13, 21, 34, 55, 89, 144, 233, 377, 610, 987, 1597, 2584]"
      ]
     },
     "execution_count": 30,
     "metadata": {},
     "output_type": "execute_result"
    }
   ],
   "source": [
    "Fibo(18)"
   ]
  },
  {
   "cell_type": "code",
   "execution_count": null,
   "id": "f2c0f07e-2738-411a-9bf5-0beced813c96",
   "metadata": {},
   "outputs": [],
   "source": []
  }
 ],
 "metadata": {
  "kernelspec": {
   "display_name": "Python 3 (ipykernel)",
   "language": "python",
   "name": "python3"
  },
  "language_info": {
   "codemirror_mode": {
    "name": "ipython",
    "version": 3
   },
   "file_extension": ".py",
   "mimetype": "text/x-python",
   "name": "python",
   "nbconvert_exporter": "python",
   "pygments_lexer": "ipython3",
   "version": "3.13.1"
  }
 },
 "nbformat": 4,
 "nbformat_minor": 5
}
