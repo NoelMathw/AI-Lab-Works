{
 "cells": [
  {
   "cell_type": "code",
   "execution_count": 1,
   "id": "468a4dc9-6990-40e4-a040-9598eaeb49e7",
   "metadata": {},
   "outputs": [],
   "source": [
    "def bubble (L):\n",
    "    N = len (L ) # Number of elements in L.\n",
    "    for i in range ( N):\n",
    "        for j in range ( N):\n",
    "            if L[i] < L[j]:\n",
    "                L[i], L[j] = L[j], L[i]"
   ]
  },
  {
   "cell_type": "code",
   "execution_count": null,
   "id": "42a90efe-eac7-4981-bc58-a5dc49b91ed3",
   "metadata": {},
   "outputs": [],
   "source": []
  }
 ],
 "metadata": {
  "kernelspec": {
   "display_name": "Python 3 (ipykernel)",
   "language": "python",
   "name": "python3"
  },
  "language_info": {
   "codemirror_mode": {
    "name": "ipython",
    "version": 3
   },
   "file_extension": ".py",
   "mimetype": "text/x-python",
   "name": "python",
   "nbconvert_exporter": "python",
   "pygments_lexer": "ipython3",
   "version": "3.13.1"
  }
 },
 "nbformat": 4,
 "nbformat_minor": 5
}
